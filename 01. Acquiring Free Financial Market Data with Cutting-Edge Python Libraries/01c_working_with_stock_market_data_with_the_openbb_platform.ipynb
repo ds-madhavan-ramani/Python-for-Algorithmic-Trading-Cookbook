{
  "cells": [
    {
      "cell_type": "markdown",
      "id": "ff1f18bf",
      "metadata": {
        "id": "ff1f18bf"
      },
      "source": [
        "## Working with stock market data with the OpenBB Platform"
      ]
    },
    {
      "cell_type": "code",
      "execution_count": null,
      "id": "cd26e5c2",
      "metadata": {
        "id": "cd26e5c2"
      },
      "outputs": [],
      "source": [
        "from IPython.display import display\n",
        "from openbb import obb"
      ]
    },
    {
      "cell_type": "code",
      "execution_count": null,
      "id": "29cc5760",
      "metadata": {
        "id": "29cc5760"
      },
      "outputs": [],
      "source": [
        "obb.user.preferences.output_type = \"dataframe\""
      ]
    },
    {
      "cell_type": "markdown",
      "id": "b67af6c7",
      "metadata": {
        "id": "b67af6c7"
      },
      "source": [
        "Fetches historical price data for the equity \"SPY\" using the \"yfinance\" provider and displays the first 10 rows"
      ]
    },
    {
      "cell_type": "code",
      "execution_count": null,
      "id": "c9f33250",
      "metadata": {
        "id": "c9f33250"
      },
      "outputs": [],
      "source": [
        "data = obb.equity.price.historical(\"SPY\", provider=\"yfinance\")"
      ]
    },
    {
      "cell_type": "code",
      "execution_count": null,
      "id": "235092b5",
      "metadata": {
        "id": "235092b5"
      },
      "outputs": [],
      "source": [
        "display(data.head(10))"
      ]
    },
    {
      "cell_type": "markdown",
      "id": "3966d542",
      "metadata": {
        "id": "3966d542"
      },
      "source": [
        "Fetches fundamental metrics for the equities \"AAPL\" and \"MSFT\" using the \"yfinance\" provider and transposes the dataframe"
      ]
    },
    {
      "cell_type": "code",
      "execution_count": null,
      "id": "f695a877",
      "metadata": {
        "id": "f695a877"
      },
      "outputs": [],
      "source": [
        "data = obb.equity.fundamental.metrics(\"AAPL,MSFT\", provider=\"yfinance\")"
      ]
    },
    {
      "cell_type": "code",
      "execution_count": null,
      "id": "834290bf",
      "metadata": {
        "id": "834290bf"
      },
      "outputs": [],
      "source": [
        "display(data.T)"
      ]
    },
    {
      "cell_type": "markdown",
      "id": "e02fa775",
      "metadata": {
        "id": "e02fa775"
      },
      "source": [
        "Fetches valuation metrics for industries using the \"finviz\" provider and displays the data"
      ]
    },
    {
      "cell_type": "code",
      "execution_count": null,
      "id": "c11ce353",
      "metadata": {
        "id": "c11ce353"
      },
      "outputs": [],
      "source": [
        "data = obb.equity.compare.groups(\n",
        "    group=\"industry\", metric=\"valuation\", provider=\"finviz\"\n",
        ")"
      ]
    },
    {
      "cell_type": "code",
      "execution_count": null,
      "id": "57f1be9c",
      "metadata": {
        "id": "57f1be9c"
      },
      "outputs": [],
      "source": [
        "display(data)"
      ]
    },
    {
      "cell_type": "markdown",
      "id": "1f26fce5",
      "metadata": {
        "id": "1f26fce5"
      },
      "source": [
        "Fetches performance metrics for industries using the \"finviz\" provider and displays the data"
      ]
    },
    {
      "cell_type": "code",
      "execution_count": null,
      "id": "c47b4050",
      "metadata": {
        "id": "c47b4050"
      },
      "outputs": [],
      "source": [
        "data = obb.equity.compare.groups(\n",
        "    group=\"industry\", metric=\"performance\", provider=\"finviz\"\n",
        ")"
      ]
    },
    {
      "cell_type": "code",
      "execution_count": null,
      "id": "2b684932",
      "metadata": {
        "id": "2b684932"
      },
      "outputs": [],
      "source": [
        "display(data)"
      ]
    },
    {
      "cell_type": "markdown",
      "id": "19077fff",
      "metadata": {
        "id": "19077fff"
      },
      "source": [
        "Fetches overview metrics for industries using the \"finviz\" provider and displays the data"
      ]
    },
    {
      "cell_type": "code",
      "execution_count": null,
      "id": "0bb532b7",
      "metadata": {
        "id": "0bb532b7"
      },
      "outputs": [],
      "source": [
        "data = obb.equity.compare.groups(group=\"industry\", metric=\"overview\", provider=\"finviz\")"
      ]
    },
    {
      "cell_type": "code",
      "execution_count": null,
      "id": "9d4def67",
      "metadata": {
        "id": "9d4def67"
      },
      "outputs": [],
      "source": [
        "display(data)"
      ]
    },
    {
      "cell_type": "code",
      "execution_count": null,
      "id": "9a9ed35b-1b0d-44b7-b42f-5c3424bd79d7",
      "metadata": {
        "id": "9a9ed35b-1b0d-44b7-b42f-5c3424bd79d7"
      },
      "outputs": [],
      "source": []
    }
  ],
  "metadata": {
    "jupytext": {
      "cell_metadata_filter": "-all",
      "main_language": "python",
      "notebook_metadata_filter": "-all"
    },
    "kernelspec": {
      "display_name": "Python 3 (ipykernel)",
      "language": "python",
      "name": "python3"
    },
    "language_info": {
      "codemirror_mode": {
        "name": "ipython",
        "version": 3
      },
      "file_extension": ".py",
      "mimetype": "text/x-python",
      "name": "python",
      "nbconvert_exporter": "python",
      "pygments_lexer": "ipython3",
      "version": "3.10.13"
    },
    "colab": {
      "provenance": []
    }
  },
  "nbformat": 4,
  "nbformat_minor": 5
}